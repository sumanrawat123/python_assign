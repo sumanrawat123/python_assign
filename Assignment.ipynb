{
 "cells": [
  {
   "cell_type": "code",
   "execution_count": 8,
   "id": "2882f9ae-c4f7-49b7-9f8c-590cb5337962",
   "metadata": {},
   "outputs": [
    {
     "data": {
      "text/plain": [
       "int"
      ]
     },
     "execution_count": 8,
     "metadata": {},
     "output_type": "execute_result"
    }
   ],
   "source": [
    "# 1. In the below elements which of them are values or an expression? eg:- values can be\n",
    "# integer or string and expressions will be mathematical operators.\n",
    "# *\n",
    "# 'hello'\n",
    "# -87.8\n",
    "# -\n",
    "# /\n",
    "# +\n",
    "# 6\n",
    "n = 2*3   \n",
    "type(n) \t\n",
    "# Expression\n",
    "\n",
    "    "
   ]
  },
  {
   "cell_type": "code",
   "execution_count": 5,
   "id": "1011306c-3558-4cda-8bb0-f6a6a7ac6552",
   "metadata": {},
   "outputs": [
    {
     "data": {
      "text/plain": [
       "str"
      ]
     },
     "execution_count": 5,
     "metadata": {},
     "output_type": "execute_result"
    }
   ],
   "source": [
    "n = 'hello' \n",
    "type(n)\n",
    "# Value"
   ]
  },
  {
   "cell_type": "code",
   "execution_count": 7,
   "id": "1b9c9e84-0fba-49ce-82cc-df02249ced04",
   "metadata": {},
   "outputs": [
    {
     "data": {
      "text/plain": [
       "float"
      ]
     },
     "execution_count": 7,
     "metadata": {},
     "output_type": "execute_result"
    }
   ],
   "source": [
    "n = -87.8\n",
    "type(n)\n",
    "# Value"
   ]
  },
  {
   "cell_type": "code",
   "execution_count": 10,
   "id": "9b371941-6e79-4f62-a68f-63e39b34d769",
   "metadata": {},
   "outputs": [
    {
     "name": "stdout",
     "output_type": "stream",
     "text": [
      "<class 'int'>\n"
     ]
    }
   ],
   "source": [
    "n = 7-2\n",
    "print(type(n))\n",
    "# Expression"
   ]
  },
  {
   "cell_type": "code",
   "execution_count": 11,
   "id": "09e48cab-55af-4d43-bde2-06233a7190c1",
   "metadata": {},
   "outputs": [
    {
     "name": "stdout",
     "output_type": "stream",
     "text": [
      "<class 'float'>\n"
     ]
    }
   ],
   "source": [
    "n = 15/3\n",
    "print(type(n))\n",
    "# Expression"
   ]
  },
  {
   "cell_type": "code",
   "execution_count": 12,
   "id": "8863e569-e032-4d02-88f1-d89cc94ac6ff",
   "metadata": {},
   "outputs": [
    {
     "name": "stdout",
     "output_type": "stream",
     "text": [
      "<class 'int'>\n"
     ]
    }
   ],
   "source": [
    "n = 1+8\n",
    "print(type(n))\n",
    "# Expression"
   ]
  },
  {
   "cell_type": "code",
   "execution_count": 13,
   "id": "fd2b08b3-58b9-427e-ab17-537dfb748971",
   "metadata": {},
   "outputs": [
    {
     "name": "stdout",
     "output_type": "stream",
     "text": [
      "<class 'int'>\n"
     ]
    }
   ],
   "source": [
    "n = 6\n",
    "print(type(n))\n",
    "# Value"
   ]
  },
  {
   "cell_type": "code",
   "execution_count": null,
   "id": "3cc818f2-b366-4768-904d-a07e6496e875",
   "metadata": {},
   "outputs": [],
   "source": [
    "# 2.What is the difference between string and variable?\n",
    "\n",
    "A string is a value.\n",
    "\n",
    "It is a sequence of characters enclosed in quotes (' ' or \" \")."
   ]
  },
  {
   "cell_type": "code",
   "execution_count": 14,
   "id": "037fb23a-ba69-48fb-91ed-17cd4800e301",
   "metadata": {},
   "outputs": [
    {
     "data": {
      "text/plain": [
       "str"
      ]
     },
     "execution_count": 14,
     "metadata": {},
     "output_type": "execute_result"
    }
   ],
   "source": [
    "\"hello\"\n",
    "type('hello')"
   ]
  },
  {
   "cell_type": "code",
   "execution_count": null,
   "id": "1f6222aa-2474-4703-b4c9-987659c045df",
   "metadata": {},
   "outputs": [],
   "source": [
    "A variable is a name that stores a value (such as a string, number, etc).\n",
    "Create a variable by assigning a value to it using the = operator.                                         "
   ]
  },
  {
   "cell_type": "code",
   "execution_count": 16,
   "id": "9250ebae-3824-4b23-97c3-1a7f4865272e",
   "metadata": {},
   "outputs": [
    {
     "name": "stdout",
     "output_type": "stream",
     "text": [
      "suman\n"
     ]
    }
   ],
   "source": [
    "name = \"suman\"\n",
    "print(name) \n",
    "n = 52\n",
    "# name,n is a variable"
   ]
  },
  {
   "cell_type": "code",
   "execution_count": null,
   "id": "8cf93f9b-cec2-4e04-bdb5-dc955a1081ed",
   "metadata": {},
   "outputs": [],
   "source": [
    "# 3. Describe three different data types.\n",
    "1.Integer (int)\n",
    "2.String (str)\n",
    "3.List (list)"
   ]
  },
  {
   "cell_type": "code",
   "execution_count": 17,
   "id": "4ef0ea75-207b-4b83-8eb8-37e2fdaf6684",
   "metadata": {},
   "outputs": [
    {
     "data": {
      "text/plain": [
       "int"
      ]
     },
     "execution_count": 17,
     "metadata": {},
     "output_type": "execute_result"
    }
   ],
   "source": [
    "# 1.Integer\n",
    "# Represents whole numbers (no decimals).\n",
    "age = 25\n",
    "type(age)"
   ]
  },
  {
   "cell_type": "code",
   "execution_count": 18,
   "id": "ab58e8c9-13aa-4209-82e0-7422bbd6cf43",
   "metadata": {},
   "outputs": [
    {
     "data": {
      "text/plain": [
       "str"
      ]
     },
     "execution_count": 18,
     "metadata": {},
     "output_type": "execute_result"
    }
   ],
   "source": [
    "# 2.String\n",
    "# Represents text data.\n",
    "name = \"Suman\"\n",
    "type(name)"
   ]
  },
  {
   "cell_type": "code",
   "execution_count": 19,
   "id": "f8d39f36-079f-4839-a881-a1edf90a5ecd",
   "metadata": {},
   "outputs": [
    {
     "data": {
      "text/plain": [
       "list"
      ]
     },
     "execution_count": 19,
     "metadata": {},
     "output_type": "execute_result"
    }
   ],
   "source": [
    "# 3.List\n",
    "# A list is a collection of multiple items stored in a single variable.\n",
    "fruits = ['Apple','Banana','Orange']\n",
    "type(fruits)"
   ]
  },
  {
   "cell_type": "code",
   "execution_count": null,
   "id": "654a8e5b-3275-4643-8913-45e16986809a",
   "metadata": {},
   "outputs": [],
   "source": [
    "# 4.What is an expression made up of? What do all expressions do?\n",
    "An expression is made up of values, variables, and operators that combine to produce a result.\n",
    "\n",
    "Values – numbers or strings\n",
    "Example: 5, 'hello', 3.14\n",
    "\n",
    "Variables – names that store values\n",
    "Example: x, total, message\n",
    "\n",
    "Operators – symbols that perform operations\n",
    "Example: +, -, *, /, ==\n"
   ]
  },
  {
   "cell_type": "code",
   "execution_count": 20,
   "id": "33780c20-f662-4dd0-966d-67b08d1dbcbb",
   "metadata": {},
   "outputs": [
    {
     "name": "stdout",
     "output_type": "stream",
     "text": [
      "9\n"
     ]
    }
   ],
   "source": [
    "n = 5 + 4\n",
    "print(n)\n"
   ]
  },
  {
   "cell_type": "code",
   "execution_count": 21,
   "id": "18eca6e0-36b0-4ab0-9ec0-627710788e0e",
   "metadata": {},
   "outputs": [
    {
     "name": "stdout",
     "output_type": "stream",
     "text": [
      "sumanrawat\n"
     ]
    }
   ],
   "source": [
    "n = \"suman\"\n",
    "m = \"rawat\"\n",
    "print(n + m)"
   ]
  },
  {
   "cell_type": "code",
   "execution_count": null,
   "id": "4daba06f-0b0d-4f0e-a02f-87c577a42543",
   "metadata": {},
   "outputs": [],
   "source": [
    "All expressions evaluate to a single value.\n",
    "That value can be a number, string, boolean, etc."
   ]
  },
  {
   "cell_type": "code",
   "execution_count": null,
   "id": "993ed6a3-8f5a-479a-a93c-4c557f8b527d",
   "metadata": {},
   "outputs": [],
   "source": [
    "# 5. This assignment statements, like spam = 10. What is the difference between an expression and a statement?"
   ]
  },
  {
   "cell_type": "code",
   "execution_count": null,
   "id": "0fe2bb2c-ecee-4bdc-a44a-76066a567a28",
   "metadata": {},
   "outputs": [],
   "source": [
    "spam = 10\n",
    "This is an assignment statement.\n",
    "It assigns the value 10 to the variable spam.\n",
    "All expressions can be part of a statement, but not all statements are expressions.\n"
   ]
  },
  {
   "cell_type": "code",
   "execution_count": null,
   "id": "9fe50de3-5559-4b6c-9f08-ec09b3a3b10b",
   "metadata": {},
   "outputs": [],
   "source": [
    "# 6. After running the following code, what does the variable bacon contain?\n",
    "# bacon = 22\n",
    "# bacon + 1\n"
   ]
  },
  {
   "cell_type": "code",
   "execution_count": 23,
   "id": "c4debc23-72e5-4e96-a6de-2d7ffd9787ce",
   "metadata": {},
   "outputs": [
    {
     "name": "stdout",
     "output_type": "stream",
     "text": [
      "22\n"
     ]
    }
   ],
   "source": [
    "bacon = 22\n",
    "print(bacon)\n",
    "# Assigns the value 22 to the variable 'bacon'"
   ]
  },
  {
   "cell_type": "code",
   "execution_count": 24,
   "id": "067f3891-9208-4863-a74e-78bb36459b97",
   "metadata": {},
   "outputs": [
    {
     "data": {
      "text/plain": [
       "23"
      ]
     },
     "execution_count": 24,
     "metadata": {},
     "output_type": "execute_result"
    }
   ],
   "source": [
    "bacon + 1\n",
    "# Evaluates to 23, but does NOT change 'bacon'\n",
    "bacon = bacon + 1   # Now bacon becomes 23"
   ]
  },
  {
   "cell_type": "code",
   "execution_count": null,
   "id": "b934082c-478d-4bc1-8a9c-6b0988aebf43",
   "metadata": {},
   "outputs": [],
   "source": [
    "# 7. What should the values of the following two terms be?\n",
    "# 'spam' + 'spamspam'\n",
    "# 'spam' * 3"
   ]
  },
  {
   "cell_type": "code",
   "execution_count": 25,
   "id": "b4739f38-6827-4bb3-88f6-6bd37dc3dc12",
   "metadata": {},
   "outputs": [
    {
     "name": "stdout",
     "output_type": "stream",
     "text": [
      "spamspamspam\n"
     ]
    }
   ],
   "source": [
    "n = 'spam'+'spamspam'\n",
    "print(n)"
   ]
  },
  {
   "cell_type": "code",
   "execution_count": 26,
   "id": "10a99275-0ec2-4a6d-be97-978eb504f0d7",
   "metadata": {},
   "outputs": [
    {
     "name": "stdout",
     "output_type": "stream",
     "text": [
      "spamspamspam\n"
     ]
    }
   ],
   "source": [
    "n = 'spam'* 3\n",
    "print(n)"
   ]
  },
  {
   "cell_type": "code",
   "execution_count": null,
   "id": "ac17cf52-2742-4935-932f-eef15f09a305",
   "metadata": {},
   "outputs": [],
   "source": [
    "# 8. Why is eggs a valid variable name while 100 is invalid?"
   ]
  },
  {
   "cell_type": "code",
   "execution_count": null,
   "id": "5874cd08-500a-490e-89b0-1b34c31756dc",
   "metadata": {},
   "outputs": [],
   "source": [
    "It starts with a letter (e)\n",
    "Contains only letters (and it could also include numbers or underscores _)\n",
    "Follows Python's variable naming rules\n",
    "So eggs is a valid and proper variable name.\n"
   ]
  },
  {
   "cell_type": "code",
   "execution_count": 28,
   "id": "8b371b0b-e029-498c-8510-234944c62938",
   "metadata": {},
   "outputs": [
    {
     "name": "stdout",
     "output_type": "stream",
     "text": [
      "5\n"
     ]
    }
   ],
   "source": [
    "eggs = 5\n",
    "print(eggs)"
   ]
  },
  {
   "cell_type": "code",
   "execution_count": 31,
   "id": "0e6cb233-5028-4119-b1c3-dfb24940558f",
   "metadata": {},
   "outputs": [
    {
     "ename": "SyntaxError",
     "evalue": "cannot assign to literal here. Maybe you meant '==' instead of '='? (3790503236.py, line 3)",
     "output_type": "error",
     "traceback": [
      "\u001b[1;36m  Cell \u001b[1;32mIn[31], line 3\u001b[1;36m\u001b[0m\n\u001b[1;33m    100 = \"suman\"\u001b[0m\n\u001b[1;37m    ^\u001b[0m\n\u001b[1;31mSyntaxError\u001b[0m\u001b[1;31m:\u001b[0m cannot assign to literal here. Maybe you meant '==' instead of '='?\n"
     ]
    }
   ],
   "source": [
    "# It starts with a number, which is not allowed in Python for variable names.\n",
    "# Python will give a SyntaxError if you try something like:\n",
    "100 = \"suman\"\n",
    "print(100)"
   ]
  },
  {
   "cell_type": "code",
   "execution_count": null,
   "id": "5eaa9448-aea7-47fe-8835-a77d71042af2",
   "metadata": {},
   "outputs": [],
   "source": [
    "# 9.What three functions can be used to get the integer, floating-point number, or string  version of a value?\n"
   ]
  },
  {
   "cell_type": "code",
   "execution_count": null,
   "id": "1b8fed28-bd52-4200-899d-6ae77b11d0db",
   "metadata": {},
   "outputs": [],
   "source": [
    "Integer int()\n",
    "Floating-point number float()\n",
    "String str()"
   ]
  },
  {
   "cell_type": "code",
   "execution_count": 33,
   "id": "9fe509b5-875a-4a18-a90d-d1c55efc9dce",
   "metadata": {},
   "outputs": [
    {
     "data": {
      "text/plain": [
       "4"
      ]
     },
     "execution_count": 33,
     "metadata": {},
     "output_type": "execute_result"
    }
   ],
   "source": [
    "int('4')"
   ]
  },
  {
   "cell_type": "code",
   "execution_count": 34,
   "id": "d9c38e47-6f65-4641-9e83-3bf60e800aeb",
   "metadata": {},
   "outputs": [
    {
     "data": {
      "text/plain": [
       "3.14"
      ]
     },
     "execution_count": 34,
     "metadata": {},
     "output_type": "execute_result"
    }
   ],
   "source": [
    "float('3.14')"
   ]
  },
  {
   "cell_type": "code",
   "execution_count": 35,
   "id": "a1d1d3ad-42ce-43fc-ab4a-fcc5a6c44e12",
   "metadata": {},
   "outputs": [
    {
     "data": {
      "text/plain": [
       "'100'"
      ]
     },
     "execution_count": 35,
     "metadata": {},
     "output_type": "execute_result"
    }
   ],
   "source": [
    "str(100)"
   ]
  },
  {
   "cell_type": "code",
   "execution_count": null,
   "id": "fa1b4e3d-8877-48d5-b7e6-b9ed99dc3ac7",
   "metadata": {},
   "outputs": [],
   "source": [
    "# 10. Why does this expression cause an error? How can you fix it?\n",
    "# 'I have eaten'  + 99 + 'burritos'."
   ]
  },
  {
   "cell_type": "code",
   "execution_count": null,
   "id": "031d382b-0515-4a31-84f6-cecd5074590b",
   "metadata": {},
   "outputs": [],
   "source": [
    "# Python does not allow mixing strings and integers in concatenation using +.\n",
    "# We convert integer to str then we concatenat."
   ]
  },
  {
   "cell_type": "code",
   "execution_count": 50,
   "id": "e460c6ba-fb10-43b7-be5e-56b88ee1af1a",
   "metadata": {},
   "outputs": [
    {
     "data": {
      "text/plain": [
       "'I have eaten 99 burritos'"
      ]
     },
     "execution_count": 50,
     "metadata": {},
     "output_type": "execute_result"
    }
   ],
   "source": [
    "'I have eaten' ' ' + str(99)  + ' ' 'burritos'"
   ]
  },
  {
   "cell_type": "code",
   "execution_count": 51,
   "id": "416ee8bd-6d9d-47bd-b365-21f3fcce641d",
   "metadata": {},
   "outputs": [
    {
     "name": "stdout",
     "output_type": "stream",
     "text": [
      "I have eaten 99 burritos\n"
     ]
    }
   ],
   "source": [
    "print(f'I have eaten {99} burritos')"
   ]
  },
  {
   "cell_type": "code",
   "execution_count": null,
   "id": "e17290b0-5f29-4774-8558-ae8a6618ba0a",
   "metadata": {},
   "outputs": [],
   "source": []
  }
 ],
 "metadata": {
  "kernelspec": {
   "display_name": "Python [conda env:base] *",
   "language": "python",
   "name": "conda-base-py"
  },
  "language_info": {
   "codemirror_mode": {
    "name": "ipython",
    "version": 3
   },
   "file_extension": ".py",
   "mimetype": "text/x-python",
   "name": "python",
   "nbconvert_exporter": "python",
   "pygments_lexer": "ipython3",
   "version": "3.13.5"
  }
 },
 "nbformat": 4,
 "nbformat_minor": 5
}
