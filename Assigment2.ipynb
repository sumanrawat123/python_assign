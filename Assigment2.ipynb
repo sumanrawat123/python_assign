{
 "cells": [
  {
   "cell_type": "markdown",
   "id": "00b8da61-ad5f-4605-9b78-4d333b075235",
   "metadata": {},
   "source": [
    "1.Capitalizes the first character."
   ]
  },
  {
   "cell_type": "code",
   "execution_count": 5,
   "id": "a29bb3e0-4f04-4cd5-9f48-0cd8c3366b64",
   "metadata": {},
   "outputs": [
    {
     "data": {
      "text/plain": [
       "'Suman'"
      ]
     },
     "execution_count": 5,
     "metadata": {},
     "output_type": "execute_result"
    }
   ],
   "source": [
    "n = \"suman\"\n",
    "n.capitalize()"
   ]
  },
  {
   "cell_type": "markdown",
   "id": "8f394a53-b601-4bc4-bd95-1f70e9140052",
   "metadata": {},
   "source": [
    "2.Converts to lowercase (more aggressive than lower())."
   ]
  },
  {
   "cell_type": "code",
   "execution_count": 6,
   "id": "17957ceb-9f05-4a48-a182-a442632d9d1a",
   "metadata": {},
   "outputs": [
    {
     "data": {
      "text/plain": [
       "'suman'"
      ]
     },
     "execution_count": 6,
     "metadata": {},
     "output_type": "execute_result"
    }
   ],
   "source": [
    "n = \"SßMAN\"\n",
    "n.casefold()\n"
   ]
  },
  {
   "cell_type": "markdown",
   "id": "68abdbe5-ee4c-4796-8fc4-5c2872c3c0b4",
   "metadata": {},
   "source": [
    "3.Centers the string within the specified width."
   ]
  },
  {
   "cell_type": "code",
   "execution_count": 78,
   "id": "ab417048-f048-485a-801f-6b1719125556",
   "metadata": {},
   "outputs": [
    {
     "data": {
      "text/plain": [
       "'***hello***'"
      ]
     },
     "execution_count": 78,
     "metadata": {},
     "output_type": "execute_result"
    }
   ],
   "source": [
    "\"hello\".center(11, '*') \n"
   ]
  },
  {
   "cell_type": "code",
   "execution_count": 79,
   "id": "ba5726e3-3070-46c4-a8be-6930ad6ae0cd",
   "metadata": {},
   "outputs": [
    {
     "data": {
      "text/plain": [
       "'--hi--'"
      ]
     },
     "execution_count": 79,
     "metadata": {},
     "output_type": "execute_result"
    }
   ],
   "source": [
    "\"hi\".center(6, '-') "
   ]
  },
  {
   "cell_type": "markdown",
   "id": "20283832-9ebd-488b-83ff-472415c6a512",
   "metadata": {},
   "source": [
    "4.Returns the number of non-overlapping occurrences of a substring."
   ]
  },
  {
   "cell_type": "code",
   "execution_count": 80,
   "id": "28d94d1d-104e-4dec-a484-bfd6413b87a6",
   "metadata": {},
   "outputs": [
    {
     "data": {
      "text/plain": [
       "1"
      ]
     },
     "execution_count": 80,
     "metadata": {},
     "output_type": "execute_result"
    }
   ],
   "source": [
    "\"banana\".count(\"a\", 2, 5) "
   ]
  },
  {
   "cell_type": "markdown",
   "id": "3da38baf-a048-4bf5-b9dc-a04bbd38aa7d",
   "metadata": {},
   "source": [
    "5.Returns encoded version of the string."
   ]
  },
  {
   "cell_type": "code",
   "execution_count": 81,
   "id": "5c345774-2f5c-4549-85cc-4a2cd3b5f1d1",
   "metadata": {},
   "outputs": [
    {
     "data": {
      "text/plain": [
       "b'caf\\xc3\\xa9'"
      ]
     },
     "execution_count": 81,
     "metadata": {},
     "output_type": "execute_result"
    }
   ],
   "source": [
    "\"café\".encode(\"utf-8\")\n"
   ]
  },
  {
   "cell_type": "code",
   "execution_count": 82,
   "id": "b4d1c290-e35f-4258-b554-80e352060855",
   "metadata": {},
   "outputs": [
    {
     "data": {
      "text/plain": [
       "b'caf'"
      ]
     },
     "execution_count": 82,
     "metadata": {},
     "output_type": "execute_result"
    }
   ],
   "source": [
    "\n",
    "\"café\".encode(\"ascii\", \"ignore\") "
   ]
  },
  {
   "cell_type": "markdown",
   "id": "b23e56ad-878b-46ec-8c90-f3b5f699bc01",
   "metadata": {},
   "source": [
    "6.Returns True if the string ends with the specified suffix."
   ]
  },
  {
   "cell_type": "code",
   "execution_count": 83,
   "id": "6dca4dce-a617-47cf-95bb-5bd37678c07b",
   "metadata": {},
   "outputs": [
    {
     "data": {
      "text/plain": [
       "True"
      ]
     },
     "execution_count": 83,
     "metadata": {},
     "output_type": "execute_result"
    }
   ],
   "source": [
    "\"HelloWorld\".endswith(\"World\", 0, 10) \n"
   ]
  },
  {
   "cell_type": "markdown",
   "id": "ca5c9978-9418-4a56-893c-977ac91fcac7",
   "metadata": {},
   "source": [
    "7.Replaces tabs with spaces."
   ]
  },
  {
   "cell_type": "code",
   "execution_count": 84,
   "id": "2f5d9a42-1c4d-4a3a-a702-3e9e21b10600",
   "metadata": {},
   "outputs": [
    {
     "data": {
      "text/plain": [
       "'Python  Rocks'"
      ]
     },
     "execution_count": 84,
     "metadata": {},
     "output_type": "execute_result"
    }
   ],
   "source": [
    "\"Python\\tRocks\".expandtabs() \n"
   ]
  },
  {
   "cell_type": "code",
   "execution_count": 85,
   "id": "c645a6bc-df6b-4e0b-97e8-3895d1bedf75",
   "metadata": {},
   "outputs": [
    {
     "data": {
      "text/plain": [
       "'Python  Rocks'"
      ]
     },
     "execution_count": 85,
     "metadata": {},
     "output_type": "execute_result"
    }
   ],
   "source": [
    "\"Python\\tRocks\".expandtabs(4)"
   ]
  },
  {
   "cell_type": "markdown",
   "id": "5e71fc29-7222-4ecd-bec3-7a4f0e3fe7ef",
   "metadata": {},
   "source": [
    "8.Returns the lowest index of the substring; returns -1 if not found."
   ]
  },
  {
   "cell_type": "code",
   "execution_count": 86,
   "id": "30d9f185-51e4-4a81-8735-7d5ec0e97296",
   "metadata": {},
   "outputs": [
    {
     "data": {
      "text/plain": [
       "3"
      ]
     },
     "execution_count": 86,
     "metadata": {},
     "output_type": "execute_result"
    }
   ],
   "source": [
    "\"textbook\".find(\"t\", 2) "
   ]
  },
  {
   "cell_type": "code",
   "execution_count": 4,
   "id": "bd3cbca6-52ad-4aea-b493-c1a46c15337e",
   "metadata": {},
   "outputs": [
    {
     "name": "stdout",
     "output_type": "stream",
     "text": [
      "-1\n"
     ]
    }
   ],
   "source": [
    "s = \"Python is powerful and fast.\"\n",
    "print(s.find(\"fast\", 0, 25))"
   ]
  },
  {
   "cell_type": "markdown",
   "id": "72a51a93-1a12-4dcd-9cc2-63eb0517734f",
   "metadata": {},
   "source": [
    "9.Formats string using the specified arguments."
   ]
  },
  {
   "cell_type": "code",
   "execution_count": 8,
   "id": "1c75a58a-0bf9-450e-8070-5e944106b4bf",
   "metadata": {},
   "outputs": [
    {
     "data": {
      "text/plain": [
       "'John scored 95% in Math'"
      ]
     },
     "execution_count": 8,
     "metadata": {},
     "output_type": "execute_result"
    }
   ],
   "source": [
    "\"{} scored {}% in {}\".format(\"John\", 95, \"Math\") "
   ]
  },
  {
   "cell_type": "code",
   "execution_count": 87,
   "id": "3ffa3e4c-6223-41c8-be2f-14e6e4e06630",
   "metadata": {},
   "outputs": [
    {
     "data": {
      "text/plain": [
       "'Hello, Alice!'"
      ]
     },
     "execution_count": 87,
     "metadata": {},
     "output_type": "execute_result"
    }
   ],
   "source": [
    "\"Hello, {}!\".format(\"Alice\") "
   ]
  },
  {
   "cell_type": "markdown",
   "id": "16274410-1a18-4a45-b2d5-440c5bbda29a",
   "metadata": {},
   "source": [
    "10.Formats string using a mapping."
   ]
  },
  {
   "cell_type": "code",
   "execution_count": 88,
   "id": "0964876b-9068-4d22-a3a4-e1b6b376ce58",
   "metadata": {},
   "outputs": [
    {
     "data": {
      "text/plain": [
       "'Name: Alice, Age: 30'"
      ]
     },
     "execution_count": 88,
     "metadata": {},
     "output_type": "execute_result"
    }
   ],
   "source": [
    "data = {\"name\": \"Alice\", \"age\": 30}\n",
    "\"Name: {name}, Age: {age}\".format_map(data)"
   ]
  },
  {
   "cell_type": "markdown",
   "id": "6dfba8b0-8e48-4a97-b803-f63b1d282713",
   "metadata": {},
   "source": [
    "11.Like find() but raises ValueError if not found.\n",
    "  "
   ]
  },
  {
   "cell_type": "code",
   "execution_count": 89,
   "id": "cade5867-f045-4750-b6bb-1b4bdce3973d",
   "metadata": {},
   "outputs": [
    {
     "data": {
      "text/plain": [
       "6"
      ]
     },
     "execution_count": 89,
     "metadata": {},
     "output_type": "execute_result"
    }
   ],
   "source": [
    "\"hello world\".index(\"world\") "
   ]
  },
  {
   "cell_type": "code",
   "execution_count": 90,
   "id": "87325080-f06a-48b4-a3d1-28d347015c43",
   "metadata": {},
   "outputs": [
    {
     "data": {
      "text/plain": [
       "2"
      ]
     },
     "execution_count": 90,
     "metadata": {},
     "output_type": "execute_result"
    }
   ],
   "source": [
    "\"banana\".index(\"na\") "
   ]
  },
  {
   "cell_type": "markdown",
   "id": "78c31ab0-753c-461c-b983-f6ba369bc5b1",
   "metadata": {},
   "source": [
    "12.Returns True if all characters are alphanumeric."
   ]
  },
  {
   "cell_type": "code",
   "execution_count": 11,
   "id": "b0c26dd2-290b-4919-abef-4433f8122c65",
   "metadata": {},
   "outputs": [
    {
     "data": {
      "text/plain": [
       "False"
      ]
     },
     "execution_count": 11,
     "metadata": {},
     "output_type": "execute_result"
    }
   ],
   "source": [
    "\"hello world\".isalnum()"
   ]
  },
  {
   "cell_type": "code",
   "execution_count": 12,
   "id": "54e9353e-d71f-4b0e-9db9-e5cdf5d9938b",
   "metadata": {},
   "outputs": [
    {
     "data": {
      "text/plain": [
       "True"
      ]
     },
     "execution_count": 12,
     "metadata": {},
     "output_type": "execute_result"
    }
   ],
   "source": [
    "\"123456\".isalnum() "
   ]
  },
  {
   "cell_type": "markdown",
   "id": "c10655ea-e14d-43a4-849d-d84c74e43893",
   "metadata": {},
   "source": [
    "13.Returns True if all characters are alphabetic."
   ]
  },
  {
   "cell_type": "code",
   "execution_count": 13,
   "id": "c5ac8b92-fd1b-4fb7-a039-eca945c9e76b",
   "metadata": {},
   "outputs": [
    {
     "data": {
      "text/plain": [
       "True"
      ]
     },
     "execution_count": 13,
     "metadata": {},
     "output_type": "execute_result"
    }
   ],
   "source": [
    "\"abc\".isalpha()"
   ]
  },
  {
   "cell_type": "code",
   "execution_count": 14,
   "id": "4a268563-8e62-4323-98ee-eb4db5c899cb",
   "metadata": {},
   "outputs": [
    {
     "data": {
      "text/plain": [
       "False"
      ]
     },
     "execution_count": 14,
     "metadata": {},
     "output_type": "execute_result"
    }
   ],
   "source": [
    "\"Data123\".isalpha()"
   ]
  },
  {
   "cell_type": "markdown",
   "id": "f9542d81-c095-46df-a42b-8779c3d386ae",
   "metadata": {},
   "source": [
    "14.Returns True if all characters are ASCII."
   ]
  },
  {
   "cell_type": "code",
   "execution_count": 15,
   "id": "ccf4f3ef-dd9d-4967-b1e1-1578174116cc",
   "metadata": {},
   "outputs": [
    {
     "data": {
      "text/plain": [
       "True"
      ]
     },
     "execution_count": 15,
     "metadata": {},
     "output_type": "execute_result"
    }
   ],
   "source": [
    "\"Hello123\".isascii() "
   ]
  },
  {
   "cell_type": "code",
   "execution_count": 16,
   "id": "7a49a730-3ebd-4115-973b-b0929c1c6679",
   "metadata": {},
   "outputs": [
    {
     "data": {
      "text/plain": [
       "False"
      ]
     },
     "execution_count": 16,
     "metadata": {},
     "output_type": "execute_result"
    }
   ],
   "source": [
    "\"¡Hola!\".isascii() "
   ]
  },
  {
   "cell_type": "markdown",
   "id": "902e03dd-18c2-4bfa-b1cb-2be1eb01c962",
   "metadata": {},
   "source": [
    "15.Returns True if all characters are decimal characters."
   ]
  },
  {
   "cell_type": "code",
   "execution_count": 17,
   "id": "233e68be-63b2-4073-b3c5-69282bc05465",
   "metadata": {},
   "outputs": [
    {
     "data": {
      "text/plain": [
       "False"
      ]
     },
     "execution_count": 17,
     "metadata": {},
     "output_type": "execute_result"
    }
   ],
   "source": [
    "\"12.3\".isdecimal()"
   ]
  },
  {
   "cell_type": "code",
   "execution_count": 18,
   "id": "3bd928d2-8da7-4dc3-96c0-e7d82560eb43",
   "metadata": {},
   "outputs": [
    {
     "data": {
      "text/plain": [
       "True"
      ]
     },
     "execution_count": 18,
     "metadata": {},
     "output_type": "execute_result"
    }
   ],
   "source": [
    "\"12345\".isdecimal()     "
   ]
  },
  {
   "cell_type": "markdown",
   "id": "87afafb6-68a3-4eec-88da-9bd682fb6830",
   "metadata": {},
   "source": [
    "16.Returns True if all characters are digits."
   ]
  },
  {
   "cell_type": "code",
   "execution_count": 19,
   "id": "5bf5fd4c-62c7-4931-ab54-c99524ae7fac",
   "metadata": {},
   "outputs": [
    {
     "data": {
      "text/plain": [
       "False"
      ]
     },
     "execution_count": 19,
     "metadata": {},
     "output_type": "execute_result"
    }
   ],
   "source": [
    "\"12.3\".isdigit() "
   ]
  },
  {
   "cell_type": "code",
   "execution_count": 20,
   "id": "a0d5653c-7108-4b21-b160-856a1a67a946",
   "metadata": {},
   "outputs": [
    {
     "data": {
      "text/plain": [
       "True"
      ]
     },
     "execution_count": 20,
     "metadata": {},
     "output_type": "execute_result"
    }
   ],
   "source": [
    "\"123456\".isdigit() "
   ]
  },
  {
   "cell_type": "markdown",
   "id": "504584ec-83ad-4a51-b8ef-c8bf93379d87",
   "metadata": {},
   "source": [
    "17.Returns True if string is a valid identifier."
   ]
  },
  {
   "cell_type": "code",
   "execution_count": 21,
   "id": "98785520-6354-4cec-8b56-343e8de4e29b",
   "metadata": {},
   "outputs": [
    {
     "data": {
      "text/plain": [
       "True"
      ]
     },
     "execution_count": 21,
     "metadata": {},
     "output_type": "execute_result"
    }
   ],
   "source": [
    "\"my_var\".isidentifier()"
   ]
  },
  {
   "cell_type": "code",
   "execution_count": 22,
   "id": "74d14d86-6a38-4f2a-b645-47d774e862ac",
   "metadata": {},
   "outputs": [
    {
     "data": {
      "text/plain": [
       "False"
      ]
     },
     "execution_count": 22,
     "metadata": {},
     "output_type": "execute_result"
    }
   ],
   "source": [
    "\"3value\".isidentifier() "
   ]
  },
  {
   "cell_type": "markdown",
   "id": "8ec068cf-21dc-4ccf-b034-f1ab1b347bde",
   "metadata": {},
   "source": [
    "18.Returns True if all characters are lowercase."
   ]
  },
  {
   "cell_type": "markdown",
   "id": "30f36306-2e55-404e-b431-bb7b02264e90",
   "metadata": {},
   "source": [
    "\"hello\".islower()"
   ]
  },
  {
   "cell_type": "code",
   "execution_count": 24,
   "id": "8a80f7ad-f755-40e0-a3e6-b6a7db28c047",
   "metadata": {},
   "outputs": [
    {
     "data": {
      "text/plain": [
       "False"
      ]
     },
     "execution_count": 24,
     "metadata": {},
     "output_type": "execute_result"
    }
   ],
   "source": [
    "\"Hello\".islower() "
   ]
  },
  {
   "cell_type": "markdown",
   "id": "bf837ef2-2977-497e-9482-0ba8dc229b78",
   "metadata": {},
   "source": [
    "19.Returns True if all characters are numeric."
   ]
  },
  {
   "cell_type": "code",
   "execution_count": 25,
   "id": "ea73b704-da1d-4f17-86a3-67799b301c9d",
   "metadata": {},
   "outputs": [
    {
     "data": {
      "text/plain": [
       "True"
      ]
     },
     "execution_count": 25,
     "metadata": {},
     "output_type": "execute_result"
    }
   ],
   "source": [
    "\"123\".isnumeric() "
   ]
  },
  {
   "cell_type": "code",
   "execution_count": 26,
   "id": "0e4f2f47-11b7-4dcd-adbd-e1f445333586",
   "metadata": {},
   "outputs": [
    {
     "data": {
      "text/plain": [
       "False"
      ]
     },
     "execution_count": 26,
     "metadata": {},
     "output_type": "execute_result"
    }
   ],
   "source": [
    "\"123abc\".isnumeric() "
   ]
  },
  {
   "cell_type": "markdown",
   "id": "9b54753a-646d-43cf-916a-eae1090b98e0",
   "metadata": {},
   "source": [
    "20.Returns True if all characters are printable."
   ]
  },
  {
   "cell_type": "code",
   "execution_count": 31,
   "id": "751c5859-9aa3-4122-b5db-37af0aea9086",
   "metadata": {},
   "outputs": [
    {
     "data": {
      "text/plain": [
       "True"
      ]
     },
     "execution_count": 31,
     "metadata": {},
     "output_type": "execute_result"
    }
   ],
   "source": [
    "\"Hello123!\".isprintable() "
   ]
  },
  {
   "cell_type": "code",
   "execution_count": 32,
   "id": "4e260e9e-2a52-4841-adf5-c9554267f962",
   "metadata": {},
   "outputs": [
    {
     "data": {
      "text/plain": [
       "False"
      ]
     },
     "execution_count": 32,
     "metadata": {},
     "output_type": "execute_result"
    }
   ],
   "source": [
    "\"Line\\nBreak\".isprintable()"
   ]
  },
  {
   "cell_type": "markdown",
   "id": "c165c3f5-feaf-487c-acd2-ed79f21ac562",
   "metadata": {},
   "source": [
    "21.Returns True if all characters are whitespace."
   ]
  },
  {
   "cell_type": "code",
   "execution_count": 33,
   "id": "e50ce283-2737-496b-a5eb-102f3e1ad3b4",
   "metadata": {},
   "outputs": [
    {
     "data": {
      "text/plain": [
       "True"
      ]
     },
     "execution_count": 33,
     "metadata": {},
     "output_type": "execute_result"
    }
   ],
   "source": [
    "\"   \".isspace()   "
   ]
  },
  {
   "cell_type": "code",
   "execution_count": 34,
   "id": "5f7b4e80-e8ea-4fbb-8648-c43efbe0034b",
   "metadata": {},
   "outputs": [
    {
     "data": {
      "text/plain": [
       "False"
      ]
     },
     "execution_count": 34,
     "metadata": {},
     "output_type": "execute_result"
    }
   ],
   "source": [
    "\"abc\".isspace() "
   ]
  },
  {
   "cell_type": "markdown",
   "id": "4bbea7d1-a539-4348-b92a-35ae495fbc44",
   "metadata": {},
   "source": [
    "22.Returns True if the string is titlecased."
   ]
  },
  {
   "cell_type": "code",
   "execution_count": 35,
   "id": "b832e4f7-19d9-4a5f-ad84-b26368e3f6b5",
   "metadata": {},
   "outputs": [
    {
     "data": {
      "text/plain": [
       "True"
      ]
     },
     "execution_count": 35,
     "metadata": {},
     "output_type": "execute_result"
    }
   ],
   "source": [
    "\"Hello World\".istitle()  "
   ]
  },
  {
   "cell_type": "code",
   "execution_count": 36,
   "id": "4adac787-b7c1-4633-9b6c-6676dd63cea3",
   "metadata": {},
   "outputs": [
    {
     "data": {
      "text/plain": [
       "False"
      ]
     },
     "execution_count": 36,
     "metadata": {},
     "output_type": "execute_result"
    }
   ],
   "source": [
    "\"123\".istitle() "
   ]
  },
  {
   "cell_type": "markdown",
   "id": "1672248c-6375-4e55-937d-3d86a691301a",
   "metadata": {},
   "source": [
    "23.Returns True if all characters are uppercase."
   ]
  },
  {
   "cell_type": "code",
   "execution_count": 37,
   "id": "5524e236-bf45-49c6-aaf5-e958ac3ef947",
   "metadata": {},
   "outputs": [
    {
     "data": {
      "text/plain": [
       "True"
      ]
     },
     "execution_count": 37,
     "metadata": {},
     "output_type": "execute_result"
    }
   ],
   "source": [
    "\"HELLO\".isupper() "
   ]
  },
  {
   "cell_type": "code",
   "execution_count": 38,
   "id": "9c161f26-3765-4f16-993f-d19ee9810f57",
   "metadata": {},
   "outputs": [
    {
     "data": {
      "text/plain": [
       "False"
      ]
     },
     "execution_count": 38,
     "metadata": {},
     "output_type": "execute_result"
    }
   ],
   "source": [
    "\"Hello\".isupper() "
   ]
  },
  {
   "cell_type": "markdown",
   "id": "f5ee59f1-a215-4226-93fa-67acc19ff8d6",
   "metadata": {},
   "source": [
    "24.Joins elements of an iterable with the string as a separator."
   ]
  },
  {
   "cell_type": "code",
   "execution_count": 39,
   "id": "061bed05-ad91-4a48-97b4-b908896b7a76",
   "metadata": {},
   "outputs": [
    {
     "data": {
      "text/plain": [
       "'Python is awesome'"
      ]
     },
     "execution_count": 39,
     "metadata": {},
     "output_type": "execute_result"
    }
   ],
   "source": [
    "\" \".join([\"Python\", \"is\", \"awesome\"])"
   ]
  },
  {
   "cell_type": "code",
   "execution_count": 40,
   "id": "63ab2151-9139-4ea1-b167-c571e1f4f3f3",
   "metadata": {},
   "outputs": [
    {
     "data": {
      "text/plain": [
       "'2025-07-18'"
      ]
     },
     "execution_count": 40,
     "metadata": {},
     "output_type": "execute_result"
    }
   ],
   "source": [
    "\"-\".join([\"2025\", \"07\", \"18\"])"
   ]
  },
  {
   "cell_type": "markdown",
   "id": "d61ab5d8-8fc5-4655-8938-7ba98afb3f49",
   "metadata": {},
   "source": [
    "25.Left-justifies the string."
   ]
  },
  {
   "cell_type": "code",
   "execution_count": 41,
   "id": "05d9f7f3-c14e-478d-8993-f90a4dac1cbb",
   "metadata": {},
   "outputs": [
    {
     "data": {
      "text/plain": [
       "'Python----'"
      ]
     },
     "execution_count": 41,
     "metadata": {},
     "output_type": "execute_result"
    }
   ],
   "source": [
    "\"Python\".ljust(10, '-') "
   ]
  },
  {
   "cell_type": "code",
   "execution_count": 42,
   "id": "325ef471-ea42-41ff-a812-43ab930d7d77",
   "metadata": {},
   "outputs": [
    {
     "data": {
      "text/plain": [
       "'42000'"
      ]
     },
     "execution_count": 42,
     "metadata": {},
     "output_type": "execute_result"
    }
   ],
   "source": [
    "\"42\".ljust(5, '0') "
   ]
  },
  {
   "cell_type": "markdown",
   "id": "507368b6-034a-46f0-abe1-d593f7b4e423",
   "metadata": {},
   "source": [
    "26.Converts to lowercase."
   ]
  },
  {
   "cell_type": "code",
   "execution_count": 43,
   "id": "80503506-dd92-4a16-a934-ea09f984224f",
   "metadata": {},
   "outputs": [
    {
     "data": {
      "text/plain": [
       "'hello'"
      ]
     },
     "execution_count": 43,
     "metadata": {},
     "output_type": "execute_result"
    }
   ],
   "source": [
    "\"HELLO\".lower()  "
   ]
  },
  {
   "cell_type": "markdown",
   "id": "1075db82-222c-4927-85d6-9a2247ce0be2",
   "metadata": {},
   "source": [
    "27.Removes leading characters (default: whitespace)."
   ]
  },
  {
   "cell_type": "code",
   "execution_count": 44,
   "id": "529ca86e-1943-492d-b153-521d923eaa46",
   "metadata": {},
   "outputs": [
    {
     "data": {
      "text/plain": [
       "'Hello'"
      ]
     },
     "execution_count": 44,
     "metadata": {},
     "output_type": "execute_result"
    }
   ],
   "source": [
    "\"   Hello\".lstrip() "
   ]
  },
  {
   "cell_type": "markdown",
   "id": "d16fcffb-253a-440d-b0f1-c71ecbe4572e",
   "metadata": {},
   "source": [
    "28.Returns a translation table."
   ]
  },
  {
   "cell_type": "code",
   "execution_count": 45,
   "id": "15da3efe-1cea-491f-aa39-94ec042f19a6",
   "metadata": {},
   "outputs": [
    {
     "data": {
      "text/plain": [
       "'123123'"
      ]
     },
     "execution_count": 45,
     "metadata": {},
     "output_type": "execute_result"
    }
   ],
   "source": [
    "trans = str.maketrans(\"abc\", \"123\")\n",
    "\"abcabc\".translate(trans)"
   ]
  },
  {
   "cell_type": "markdown",
   "id": "b232313c-b264-47ed-a405-340e118bfbdd",
   "metadata": {},
   "source": [
    "29.Splits the string at the first occurrence of sep."
   ]
  },
  {
   "cell_type": "code",
   "execution_count": 47,
   "id": "26736546-29d3-467a-8cba-328c98400a5d",
   "metadata": {},
   "outputs": [
    {
     "data": {
      "text/plain": [
       "('key', '=', 'value')"
      ]
     },
     "execution_count": 47,
     "metadata": {},
     "output_type": "execute_result"
    }
   ],
   "source": [
    "\"key=value\".partition(\"=\")"
   ]
  },
  {
   "cell_type": "markdown",
   "id": "a36ee9fd-bc44-4ed5-a68d-dd851b84317d",
   "metadata": {},
   "source": [
    "30.Removes the specified prefix if present."
   ]
  },
  {
   "cell_type": "code",
   "execution_count": 48,
   "id": "a758d881-50e2-44a7-bb6a-d09380f94b85",
   "metadata": {},
   "outputs": [
    {
     "data": {
      "text/plain": [
       "'happy'"
      ]
     },
     "execution_count": 48,
     "metadata": {},
     "output_type": "execute_result"
    }
   ],
   "source": [
    "\"unhappy\".removeprefix(\"un\") "
   ]
  },
  {
   "cell_type": "markdown",
   "id": "5ed0f2b5-59c4-4158-ba63-8196a964efb6",
   "metadata": {},
   "source": [
    "31.Removes the specified suffix if present."
   ]
  },
  {
   "cell_type": "code",
   "execution_count": 49,
   "id": "16620f4d-2cf2-4477-99db-48a1353f5e9d",
   "metadata": {},
   "outputs": [
    {
     "data": {
      "text/plain": [
       "'filename'"
      ]
     },
     "execution_count": 49,
     "metadata": {},
     "output_type": "execute_result"
    }
   ],
   "source": [
    "\"filename.txt\".removesuffix(\".txt\")  "
   ]
  },
  {
   "cell_type": "markdown",
   "id": "73e420ea-38b7-430b-9eb5-b4a0ac0bac45",
   "metadata": {},
   "source": [
    "32.Returns a copy with all occurrences of a substring replaced."
   ]
  },
  {
   "cell_type": "code",
   "execution_count": 51,
   "id": "6ca2df66-85d4-46b1-8687-d054d25ad712",
   "metadata": {},
   "outputs": [
    {
     "data": {
      "text/plain": [
       "'bonono'"
      ]
     },
     "execution_count": 51,
     "metadata": {},
     "output_type": "execute_result"
    }
   ],
   "source": [
    "\"banana\".replace(\"a\", \"o\")"
   ]
  },
  {
   "cell_type": "code",
   "execution_count": 50,
   "id": "d4afccb3-35a5-43a4-8956-cdbab3a38670",
   "metadata": {},
   "outputs": [
    {
     "data": {
      "text/plain": [
       "'heLLo world'"
      ]
     },
     "execution_count": 50,
     "metadata": {},
     "output_type": "execute_result"
    }
   ],
   "source": [
    "\"hello world\".replace(\"l\", \"L\", 2)"
   ]
  },
  {
   "cell_type": "markdown",
   "id": "9b86b197-3b39-47fb-93b8-e910e3d39549",
   "metadata": {},
   "source": [
    "33.Returns the highest index of the substring."
   ]
  },
  {
   "cell_type": "code",
   "execution_count": 52,
   "id": "34ea4ac3-5281-48fa-a8a0-1174f7556bd9",
   "metadata": {},
   "outputs": [
    {
     "data": {
      "text/plain": [
       "7"
      ]
     },
     "execution_count": 52,
     "metadata": {},
     "output_type": "execute_result"
    }
   ],
   "source": [
    "\"abracadabra\".rfind(\"abra\")"
   ]
  },
  {
   "cell_type": "code",
   "execution_count": 53,
   "id": "07150dcc-ee29-46d7-b6f8-16c8ec474d0a",
   "metadata": {},
   "outputs": [
    {
     "data": {
      "text/plain": [
       "9"
      ]
     },
     "execution_count": 53,
     "metadata": {},
     "output_type": "execute_result"
    }
   ],
   "source": [
    "\"hello hello\".rfind(\"lo\")"
   ]
  },
  {
   "cell_type": "markdown",
   "id": "12614650-9fff-42aa-bc88-b313185de080",
   "metadata": {},
   "source": [
    "34.Like rfind() but raises ValueError if not found."
   ]
  },
  {
   "cell_type": "code",
   "execution_count": 54,
   "id": "0c37eebf-a104-4d94-81bb-fd7630960039",
   "metadata": {},
   "outputs": [
    {
     "data": {
      "text/plain": [
       "7"
      ]
     },
     "execution_count": 54,
     "metadata": {},
     "output_type": "execute_result"
    }
   ],
   "source": [
    "\"hello world\".rindex(\"o\")  "
   ]
  },
  {
   "cell_type": "markdown",
   "id": "aa140231-4eb9-4dea-b6b9-aef8e21ac53a",
   "metadata": {},
   "source": [
    "35.Right-justifies the string."
   ]
  },
  {
   "cell_type": "code",
   "execution_count": 55,
   "id": "a2bf918b-6946-47c4-b909-928bfa2b0c1f",
   "metadata": {},
   "outputs": [
    {
     "data": {
      "text/plain": [
       "'   42'"
      ]
     },
     "execution_count": 55,
     "metadata": {},
     "output_type": "execute_result"
    }
   ],
   "source": [
    "\"42\".rjust(5)  "
   ]
  },
  {
   "cell_type": "markdown",
   "id": "48afab2a-eb16-46d3-94b1-85e3580fa415",
   "metadata": {},
   "source": [
    "36.Splits the string from the right."
   ]
  },
  {
   "cell_type": "code",
   "execution_count": 56,
   "id": "5a30d796-f7e4-45ec-a6c2-8d9b3238aa66",
   "metadata": {},
   "outputs": [
    {
     "data": {
      "text/plain": [
       "['one', 'two', 'three']"
      ]
     },
     "execution_count": 56,
     "metadata": {},
     "output_type": "execute_result"
    }
   ],
   "source": [
    "\"one two three\".rsplit()"
   ]
  },
  {
   "cell_type": "code",
   "execution_count": 57,
   "id": "544ddb4f-e0a3-4f3e-9089-ad9e66a29f1e",
   "metadata": {},
   "outputs": [
    {
     "data": {
      "text/plain": [
       "['apple,banana', 'cherry']"
      ]
     },
     "execution_count": 57,
     "metadata": {},
     "output_type": "execute_result"
    }
   ],
   "source": [
    "\"apple,banana,cherry\".rsplit(\",\", 1)"
   ]
  },
  {
   "cell_type": "markdown",
   "id": "e15abfe0-8382-4832-ad75-126102990d0c",
   "metadata": {},
   "source": [
    "37.Removes trailing characters (default: whitespace)."
   ]
  },
  {
   "cell_type": "code",
   "execution_count": 58,
   "id": "11b8e189-994e-4122-9a79-0ca582c17933",
   "metadata": {},
   "outputs": [
    {
     "data": {
      "text/plain": [
       "'hello'"
      ]
     },
     "execution_count": 58,
     "metadata": {},
     "output_type": "execute_result"
    }
   ],
   "source": [
    "\"hello\\n\\t\".rstrip()"
   ]
  },
  {
   "cell_type": "code",
   "execution_count": 59,
   "id": "cfb7b8c1-7861-45d4-8701-6c4f9c08743b",
   "metadata": {},
   "outputs": [
    {
     "data": {
      "text/plain": [
       "'banan'"
      ]
     },
     "execution_count": 59,
     "metadata": {},
     "output_type": "execute_result"
    }
   ],
   "source": [
    "\"bananaaaa\".rstrip(\"a\") "
   ]
  },
  {
   "cell_type": "markdown",
   "id": "d26f9080-71cc-4249-abfd-c8dfbced24ad",
   "metadata": {},
   "source": [
    "38.Splits the string."
   ]
  },
  {
   "cell_type": "code",
   "execution_count": 61,
   "id": "e34e7dbb-96e4-4fc3-9fe1-8ef425e04a3e",
   "metadata": {},
   "outputs": [
    {
     "data": {
      "text/plain": [
       "['Learn', 'Python', 'Now']"
      ]
     },
     "execution_count": 61,
     "metadata": {},
     "output_type": "execute_result"
    }
   ],
   "source": [
    "\"Learn Python Now\".split()"
   ]
  },
  {
   "cell_type": "code",
   "execution_count": 62,
   "id": "6fba841d-1cdb-49d5-b626-0e808c03cfd0",
   "metadata": {},
   "outputs": [
    {
     "data": {
      "text/plain": [
       "['apple', 'banana', 'cherry']"
      ]
     },
     "execution_count": 62,
     "metadata": {},
     "output_type": "execute_result"
    }
   ],
   "source": [
    "\"apple,banana,cherry\".split(\",\")"
   ]
  },
  {
   "cell_type": "markdown",
   "id": "886cf11f-eb5a-4a36-afd3-6f5b2b26584b",
   "metadata": {},
   "source": [
    "39.Splits at line breaks."
   ]
  },
  {
   "cell_type": "code",
   "execution_count": 64,
   "id": "1b31e895-d747-4e8b-9da1-df3efb85ca32",
   "metadata": {},
   "outputs": [
    {
     "data": {
      "text/plain": [
       "['Line1', 'Line2', 'Line3']"
      ]
     },
     "execution_count": 64,
     "metadata": {},
     "output_type": "execute_result"
    }
   ],
   "source": [
    "\"Line1\\nLine2\\nLine3\".splitlines()"
   ]
  },
  {
   "cell_type": "code",
   "execution_count": 65,
   "id": "1a120d36-1fe1-4b30-af75-4eab5d555105",
   "metadata": {},
   "outputs": [
    {
     "data": {
      "text/plain": [
       "['Line1', 'Line2', 'Line3']"
      ]
     },
     "execution_count": 65,
     "metadata": {},
     "output_type": "execute_result"
    }
   ],
   "source": [
    "\"Line1\\r\\nLine2\\rLine3\\n\".splitlines()"
   ]
  },
  {
   "cell_type": "markdown",
   "id": "0a9b427e-dbef-419e-afc8-57c8e5ca3e62",
   "metadata": {},
   "source": [
    "40.Returns True if the string starts with the prefix."
   ]
  },
  {
   "cell_type": "code",
   "execution_count": 66,
   "id": "deb27702-566c-4391-b549-d1e9d07d7f0b",
   "metadata": {},
   "outputs": [
    {
     "data": {
      "text/plain": [
       "True"
      ]
     },
     "execution_count": 66,
     "metadata": {},
     "output_type": "execute_result"
    }
   ],
   "source": [
    "\"Python\".startswith(\"Py\")"
   ]
  },
  {
   "cell_type": "code",
   "execution_count": 67,
   "id": "a7a7658d-c452-4f1c-9c9a-5cc5fbff8840",
   "metadata": {},
   "outputs": [
    {
     "data": {
      "text/plain": [
       "False"
      ]
     },
     "execution_count": 67,
     "metadata": {},
     "output_type": "execute_result"
    }
   ],
   "source": [
    "\"Python\".startswith(\"py\") "
   ]
  },
  {
   "cell_type": "markdown",
   "id": "6464e112-ceb1-47a3-96ae-560d271aafaf",
   "metadata": {},
   "source": [
    "41.Removes leading and trailing characters."
   ]
  },
  {
   "cell_type": "code",
   "execution_count": 68,
   "id": "47c20637-5c71-4d16-91ab-f5b3dfd9e967",
   "metadata": {},
   "outputs": [
    {
     "data": {
      "text/plain": [
       "'hello world'"
      ]
     },
     "execution_count": 68,
     "metadata": {},
     "output_type": "execute_result"
    }
   ],
   "source": [
    "\"   hello world   \".strip() "
   ]
  },
  {
   "cell_type": "code",
   "execution_count": 69,
   "id": "f7e3ad1e-0a01-424e-bd07-c5fc3e207f64",
   "metadata": {},
   "outputs": [
    {
     "data": {
      "text/plain": [
       "'Python'"
      ]
     },
     "execution_count": 69,
     "metadata": {},
     "output_type": "execute_result"
    }
   ],
   "source": [
    "\"abcPythonabc\".strip(\"abc\")"
   ]
  },
  {
   "cell_type": "markdown",
   "id": "170e6bc8-bf3d-459e-af64-dad7e9563d8e",
   "metadata": {},
   "source": [
    "42.Swaps case of all characters."
   ]
  },
  {
   "cell_type": "code",
   "execution_count": 70,
   "id": "b1f6fb29-c934-461d-a1dc-057f7ef7e6f4",
   "metadata": {},
   "outputs": [
    {
     "data": {
      "text/plain": [
       "'pYTHON'"
      ]
     },
     "execution_count": 70,
     "metadata": {},
     "output_type": "execute_result"
    }
   ],
   "source": [
    "\"Python\".swapcase() "
   ]
  },
  {
   "cell_type": "code",
   "execution_count": 71,
   "id": "dcf0cb56-0c8c-417e-845e-cd4f0948649d",
   "metadata": {},
   "outputs": [
    {
     "data": {
      "text/plain": [
       "'123ABCabc'"
      ]
     },
     "execution_count": 71,
     "metadata": {},
     "output_type": "execute_result"
    }
   ],
   "source": [
    "\"123abcABC\".swapcase()  "
   ]
  },
  {
   "cell_type": "markdown",
   "id": "18e14a98-4d82-4a3d-802c-793cdab64bde",
   "metadata": {},
   "source": [
    "43.Returns a titlecased version of the string."
   ]
  },
  {
   "cell_type": "code",
   "execution_count": 72,
   "id": "f5112597-50d8-4f2e-bdd1-c8a5340328c6",
   "metadata": {},
   "outputs": [
    {
     "data": {
      "text/plain": [
       "'Welcome To Python'"
      ]
     },
     "execution_count": 72,
     "metadata": {},
     "output_type": "execute_result"
    }
   ],
   "source": [
    "\"welcome to PYTHON\".title() "
   ]
  },
  {
   "cell_type": "code",
   "execution_count": 73,
   "id": "bdbfa682-3d9d-46ee-adc6-4935caf6337e",
   "metadata": {},
   "outputs": [
    {
     "data": {
      "text/plain": [
       "'123 Hello'"
      ]
     },
     "execution_count": 73,
     "metadata": {},
     "output_type": "execute_result"
    }
   ],
   "source": [
    "\"123 hello\".title() "
   ]
  },
  {
   "cell_type": "markdown",
   "id": "3368c996-3bae-4db9-9988-52fe0196f99f",
   "metadata": {},
   "source": [
    "44.Returns a translated string."
   ]
  },
  {
   "cell_type": "code",
   "execution_count": 74,
   "id": "23c6c998-39a7-41cd-9a82-54fbe91585d6",
   "metadata": {},
   "outputs": [
    {
     "data": {
      "text/plain": [
       "'h2ll4 w4rld'"
      ]
     },
     "execution_count": 74,
     "metadata": {},
     "output_type": "execute_result"
    }
   ],
   "source": [
    "table = str.maketrans(\"aeiou\", \"12345\")\n",
    "\"hello world\".translate(table)"
   ]
  },
  {
   "cell_type": "markdown",
   "id": "bd5c81da-dc4f-40fa-8f53-648b975a29ce",
   "metadata": {},
   "source": [
    "45.Converts all characters to uppercase."
   ]
  },
  {
   "cell_type": "code",
   "execution_count": 75,
   "id": "f743f9af-f153-424a-909f-70b9e55755d6",
   "metadata": {},
   "outputs": [
    {
     "data": {
      "text/plain": [
       "'PYTHON'"
      ]
     },
     "execution_count": 75,
     "metadata": {},
     "output_type": "execute_result"
    }
   ],
   "source": [
    "\"python\".upper() "
   ]
  },
  {
   "cell_type": "markdown",
   "id": "8fb9d2ce-c46e-4ffd-938f-43516c0856d4",
   "metadata": {},
   "source": [
    "46.Pads the string on the left with zeros."
   ]
  },
  {
   "cell_type": "code",
   "execution_count": 76,
   "id": "cffa0dea-ea35-43f3-8ad7-8c1e1cd44cdf",
   "metadata": {},
   "outputs": [
    {
     "data": {
      "text/plain": [
       "'00042'"
      ]
     },
     "execution_count": 76,
     "metadata": {},
     "output_type": "execute_result"
    }
   ],
   "source": [
    "\"42\".zfill(5) "
   ]
  },
  {
   "cell_type": "code",
   "execution_count": 77,
   "id": "e30fe0e8-c34d-4312-9982-aa0041ac5312",
   "metadata": {},
   "outputs": [
    {
     "data": {
      "text/plain": [
       "'000abc'"
      ]
     },
     "execution_count": 77,
     "metadata": {},
     "output_type": "execute_result"
    }
   ],
   "source": [
    "\"abc\".zfill(6) "
   ]
  },
  {
   "cell_type": "code",
   "execution_count": null,
   "id": "fb01e0f5-41d7-49e6-a8b1-1b3bfee1334c",
   "metadata": {},
   "outputs": [],
   "source": []
  }
 ],
 "metadata": {
  "kernelspec": {
   "display_name": "Python [conda env:base] *",
   "language": "python",
   "name": "conda-base-py"
  },
  "language_info": {
   "codemirror_mode": {
    "name": "ipython",
    "version": 3
   },
   "file_extension": ".py",
   "mimetype": "text/x-python",
   "name": "python",
   "nbconvert_exporter": "python",
   "pygments_lexer": "ipython3",
   "version": "3.13.5"
  }
 },
 "nbformat": 4,
 "nbformat_minor": 5
}
