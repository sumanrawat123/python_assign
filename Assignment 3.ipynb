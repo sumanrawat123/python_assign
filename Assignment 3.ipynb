{
 "cells": [
  {
   "cell_type": "code",
   "execution_count": null,
   "id": "a0482572-22aa-4089-99f8-b050ed6504fe",
   "metadata": {},
   "outputs": [],
   "source": [
    "address = input(\"Enter the candidate's address: \")\n",
    "full_name = input(\"Enter the candidate's full name: \")\n",
    "designation = input(\"Enter the candidate's post or designation: \")\n",
    "ctc = input(\"Enter the CTC offered: \")\n",
    "email = input(\"Enter the candidate's email: \")\n",
    "date_of_joining = input(\"Enter the date of joining: \")\n",
    "respective_person = input(\"Enter the respective person's name (e.g.,HR Manager): \")\n",
    "\n",
    "offer_letter_content = f\"\"\"\n",
    "{address}\n",
    "\n",
    "Dear {full_name},\n",
    "\n",
    "Subject: Offer of Employment for the position of {designation}\n",
    "\n",
    "We are delighted to extend this formal offer of employment to you for the position of {designation} at our organization. Based on your qualifications and the skills you demonstrated during the recruitment process, we are confident that you will be a valuable addition to our team.\n",
    "\n",
    "As discussed, your expected date of joining is {date_of_joining}. Your total compensation package will be {ctc}, which includes all salary components as per the company’s policy. Further details regarding your compensation will be provided in your employment contract.\n",
    "\n",
    "We expect you to bring your best efforts to help the company achieve its goals, and we are committed to supporting your professional growth during your time with us.\n",
    "\n",
    "Please confirm your acceptance of this offer by sending an email to {email} at your earliest convenience. Should you have any queries regarding this offer, feel free to reach out to us.\n",
    "\n",
    "We look forward to having you onboard and are excited about the great things we can accomplish together.\n",
    "\n",
    "Sincerely,\n",
    "\n",
    "{respective_person}\n",
    "HR Manager\n",
    "\"\"\"\n"
   ]
  },
  {
   "cell_type": "code",
   "execution_count": null,
   "id": "f9ebea1d-ba2c-4a58-b230-c876a6da9c06",
   "metadata": {},
   "outputs": [],
   "source": []
  },
  {
   "cell_type": "code",
   "execution_count": null,
   "id": "ec61a65d-9688-478c-8044-fb2c35f3dff1",
   "metadata": {},
   "outputs": [],
   "source": []
  }
 ],
 "metadata": {
  "kernelspec": {
   "display_name": "Python [conda env:base] *",
   "language": "python",
   "name": "conda-base-py"
  },
  "language_info": {
   "codemirror_mode": {
    "name": "ipython",
    "version": 3
   },
   "file_extension": ".py",
   "mimetype": "text/x-python",
   "name": "python",
   "nbconvert_exporter": "python",
   "pygments_lexer": "ipython3",
   "version": "3.13.5"
  }
 },
 "nbformat": 4,
 "nbformat_minor": 5
}
