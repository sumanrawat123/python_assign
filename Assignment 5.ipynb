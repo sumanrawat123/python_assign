{
 "cells": [
  {
   "cell_type": "markdown",
   "id": "add6cbe2-457a-471c-94c9-b8131795911b",
   "metadata": {},
   "source": [
    "1: Write a Python program to print all the numbers from 1 to 10 using a for loop."
   ]
  },
  {
   "cell_type": "code",
   "execution_count": 7,
   "id": "b6a1fde0-9b67-493e-9f9b-6871c8e042dd",
   "metadata": {},
   "outputs": [
    {
     "name": "stdout",
     "output_type": "stream",
     "text": [
      "1\n",
      "2\n",
      "3\n",
      "4\n",
      "5\n",
      "6\n",
      "7\n",
      "8\n",
      "9\n",
      "10\n"
     ]
    }
   ],
   "source": [
    "\n",
    "for i in range(1 , 11):\n",
    "  print(i)\n",
    "\n"
   ]
  },
  {
   "cell_type": "markdown",
   "id": "21303f16-d494-4997-bbca-7951790649ca",
   "metadata": {},
   "source": [
    "2.Write a Python program to find the sum of all numbers from 1 to 100 using a for\n",
    "loop."
   ]
  },
  {
   "cell_type": "code",
   "execution_count": 11,
   "id": "3c079e31-7a38-487d-a6fb-fdd57c22fd31",
   "metadata": {},
   "outputs": [
    {
     "name": "stdout",
     "output_type": "stream",
     "text": [
      "The sum of numbers from 1 to 100 is: 5050\n"
     ]
    }
   ],
   "source": [
    "total = 0\n",
    "\n",
    "for number in range(1, 101):\n",
    "    total += number  \n",
    "print(\"The sum of numbers from 1 to 100 is:\", total)"
   ]
  },
  {
   "cell_type": "markdown",
   "id": "1a8ce648-182c-4f41-9588-a7a82206b28b",
   "metadata": {},
   "source": [
    "3. Write a Python program to print the multiplication table of a given number using a\n",
    "for loop.\n"
   ]
  },
  {
   "cell_type": "code",
   "execution_count": 12,
   "id": "f8b211b2-d2f8-435b-8b68-a5aff45dfc5d",
   "metadata": {},
   "outputs": [
    {
     "name": "stdin",
     "output_type": "stream",
     "text": [
      "Enter your number to table 2\n"
     ]
    },
    {
     "name": "stdout",
     "output_type": "stream",
     "text": [
      "2 x 1 = 2\n",
      "2 x 2 = 4\n",
      "2 x 3 = 6\n",
      "2 x 4 = 8\n",
      "2 x 5 = 10\n",
      "2 x 6 = 12\n",
      "2 x 7 = 14\n",
      "2 x 8 = 16\n",
      "2 x 9 = 18\n",
      "2 x 10 = 20\n"
     ]
    }
   ],
   "source": [
    "num = int(input(\"Enter your number to table\"))\n",
    "for i in range(1,11):\n",
    "    print(f\"{num} x {i} = {num *i}\")"
   ]
  },
  {
   "cell_type": "code",
   "execution_count": null,
   "id": "3f5daba8-31f7-447d-b418-51e4b836a743",
   "metadata": {},
   "outputs": [],
   "source": [
    " 4. Write a Python program to count the number of even and odd numbers from a\n",
    "series of numbers using a for loop.\n",
    "Hint: Find even and odd from this list: [1, 2, 3, 4, 5, 6, 7, 8, 9, 10]"
   ]
  },
  {
   "cell_type": "code",
   "execution_count": 13,
   "id": "7c060343-4a74-4daf-a9a2-ec380184728c",
   "metadata": {},
   "outputs": [
    {
     "name": "stdout",
     "output_type": "stream",
     "text": [
      "Number of even numbers: 5\n",
      "Number of odd numbers: 5\n"
     ]
    }
   ],
   "source": [
    "list = [1, 2, 3, 4, 5, 6, 7, 8, 9, 10]\n",
    "\n",
    "even_count = 0\n",
    "odd_count = 0\n",
    "\n",
    "for num in list:\n",
    "    if num % 2 == 0:\n",
    "        even_count += 1\n",
    "    else:\n",
    "        odd_count += 1\n",
    "\n",
    "print(\"Number of even numbers:\", even_count)\n",
    "print(\"Number of odd numbers:\", odd_count)"
   ]
  },
  {
   "cell_type": "markdown",
   "id": "76587d97-a654-4c0b-a41c-04a26e2e23ba",
   "metadata": {},
   "source": [
    "5: Write a Python program to find the factorial of a number using a for loop."
   ]
  },
  {
   "cell_type": "code",
   "execution_count": null,
   "id": "8c2bcd49-5d68-4d26-9468-96b4f32167f2",
   "metadata": {},
   "outputs": [],
   "source": [
    "num = int(input(\"Enter a number to find its factorial: \"))\n",
    "\n",
    "factorial = 1\n",
    "\n",
    "if num < 0:\n",
    "    print(\"Factorial is not defined for negative numbers.\")\n",
    "else:\n",
    "    for i in range(1, num + 1):\n",
    "        factorial *= i\n",
    "    print(f\"The factorial of {num} is {factorial}\")"
   ]
  },
  {
   "cell_type": "markdown",
   "id": "8a5840f6-4673-4157-be4c-f50ce4ac7047",
   "metadata": {},
   "source": [
    "6. Write a Python program to print the Fibonacci sequence up to a specified number\n",
    "using a for loop."
   ]
  },
  {
   "cell_type": "code",
   "execution_count": 17,
   "id": "56c4b13c-c82c-4fe6-ae1f-cc6f169f3e4c",
   "metadata": {},
   "outputs": [
    {
     "name": "stdin",
     "output_type": "stream",
     "text": [
      "Enter the limit for Fibonacci sequence:  4\n"
     ]
    },
    {
     "name": "stdout",
     "output_type": "stream",
     "text": [
      "Fibonacci sequence up to 4 :\n",
      "0 1 1 2 "
     ]
    }
   ],
   "source": [
    "limit = int(input(\"Enter the limit for Fibonacci sequence: \"))\n",
    "a, b = 0, 1\n",
    "\n",
    "print(\"Fibonacci sequence up to\", limit, \":\")\n",
    "\n",
    "for _ in range(limit):\n",
    "    if a > limit:\n",
    "        break\n",
    "    print(a, end=\" \")\n",
    "    a, b = b, a + b"
   ]
  },
  {
   "cell_type": "markdown",
   "id": "e0480ac9-51fe-4d39-9be9-4aa25ee5dd19",
   "metadata": {},
   "source": [
    "7.Write a Python program to check if a given number is prime or not using a for loop."
   ]
  },
  {
   "cell_type": "code",
   "execution_count": 20,
   "id": "71b729f6-4678-47a0-9f1c-426f38ead613",
   "metadata": {},
   "outputs": [
    {
     "name": "stdin",
     "output_type": "stream",
     "text": [
      "Enter a number to check if it is prime:  22\n"
     ]
    },
    {
     "name": "stdout",
     "output_type": "stream",
     "text": [
      "22 is not a prime number.\n"
     ]
    }
   ],
   "source": [
    "num = int(input(\"Enter a number to check if it is prime: \"))\n",
    "\n",
    "if num <= 1:\n",
    "    print(num, \"is not a prime number.\")\n",
    "else:\n",
    "    is_prime = True\n",
    "    for i in range(2, int(num ** 0.5) + 1):  # Check up to square root of num\n",
    "        if num % i == 0:\n",
    "            is_prime = False\n",
    "            break\n",
    "    if is_prime:\n",
    "        print(num, \"is a prime number.\")\n",
    "    else:\n",
    "        print(num, \"is not a prime number.\")"
   ]
  },
  {
   "cell_type": "markdown",
   "id": "0602d22c-b59f-4f84-9a81-923058941d41",
   "metadata": {},
   "source": [
    "8.Write a Python program to find the largest element in a list using a for loop."
   ]
  },
  {
   "cell_type": "code",
   "execution_count": 1,
   "id": "ff836bc9-d745-437e-8b2c-c89d08f00dd6",
   "metadata": {},
   "outputs": [
    {
     "name": "stdout",
     "output_type": "stream",
     "text": [
      "The largest element in the list is: 89\n"
     ]
    }
   ],
   "source": [
    "numbers = [12, 45, 78, 23, 89, 55, 33]\n",
    "largest = numbers[0]\n",
    "\n",
    "for num in numbers:\n",
    "    if num > largest:\n",
    "        largest = num\n",
    "\n",
    "print(\"The largest element in the list is:\", largest)"
   ]
  },
  {
   "cell_type": "markdown",
   "id": "7818539d-fe93-474e-bdbb-7bd35e767d98",
   "metadata": {},
   "source": [
    "9.Write a Python program to reverse a given string using a for loop."
   ]
  },
  {
   "cell_type": "code",
   "execution_count": 2,
   "id": "3c771547-6ea0-4c22-8416-ffb81d2a5fe4",
   "metadata": {},
   "outputs": [
    {
     "name": "stdout",
     "output_type": "stream",
     "text": [
      "Reversed string: !dlroW ,olleH\n"
     ]
    }
   ],
   "source": [
    "input_string = \"Hello, World!\"\n",
    "\n",
    "reversed_string = \"\"\n",
    "\n",
    "for i in range(len(input_string) - 1, -1, -1):\n",
    "    reversed_string += input_string[i]\n",
    "\n",
    "print(\"Reversed string:\", reversed_string)"
   ]
  },
  {
   "cell_type": "markdown",
   "id": "91216b38-da1a-4a14-a5f7-a710f4a29384",
   "metadata": {},
   "source": [
    "10. Write a Python program to find the common elements between two lists using a\n",
    "for loop.\n"
   ]
  },
  {
   "cell_type": "code",
   "execution_count": 3,
   "id": "d359dac5-67af-48ad-990e-a15a153c5236",
   "metadata": {},
   "outputs": [
    {
     "name": "stdout",
     "output_type": "stream",
     "text": [
      "Common elements: [1]\n"
     ]
    }
   ],
   "source": [
    "List1 = [1, 2, 3]\n",
    "List2 = [4, 5, 1]\n",
    "\n",
    "common_elements = []\n",
    "\n",
    "for item in List1:\n",
    "    if item in List2:\n",
    "        common_elements.append(item)\n",
    "    \n",
    "print(\"Common elements:\", common_elements)"
   ]
  },
  {
   "cell_type": "code",
   "execution_count": null,
   "id": "dd1594ff-b143-476b-8f2c-ed4f10060a29",
   "metadata": {},
   "outputs": [],
   "source": []
  }
 ],
 "metadata": {
  "kernelspec": {
   "display_name": "Python [conda env:base] *",
   "language": "python",
   "name": "conda-base-py"
  },
  "language_info": {
   "codemirror_mode": {
    "name": "ipython",
    "version": 3
   },
   "file_extension": ".py",
   "mimetype": "text/x-python",
   "name": "python",
   "nbconvert_exporter": "python",
   "pygments_lexer": "ipython3",
   "version": "3.13.5"
  }
 },
 "nbformat": 4,
 "nbformat_minor": 5
}
